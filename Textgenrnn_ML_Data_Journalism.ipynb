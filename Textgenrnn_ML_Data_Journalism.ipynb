{
  "nbformat": 4,
  "nbformat_minor": 0,
  "metadata": {
    "colab": {
      "name": "Textgenrnn ML Data Journalism",
      "provenance": [],
      "collapsed_sections": [],
      "include_colab_link": true
    },
    "kernelspec": {
      "name": "python3",
      "display_name": "Python 3"
    }
  },
  "cells": [
    {
      "cell_type": "markdown",
      "metadata": {
        "id": "view-in-github",
        "colab_type": "text"
      },
      "source": [
        "<a href=\"https://colab.research.google.com/github/bgtripp/Computational-Modeling-and-Simulation/blob/master/Textgenrnn_ML_Data_Journalism.ipynb\" target=\"_parent\"><img src=\"https://colab.research.google.com/assets/colab-badge.svg\" alt=\"Open In Colab\"/></a>"
      ]
    },
    {
      "cell_type": "code",
      "metadata": {
        "id": "KVaUXv7Gqg-8",
        "colab_type": "code",
        "outputId": "b22973fa-8c73-42a1-9ef0-2d81ea2db7aa",
        "colab": {
          "base_uri": "https://localhost:8080/",
          "height": 267
        }
      },
      "source": [
        "import pandas as pd #Helpful for importing and manipulating data\n",
        "import numpy as np #Helpful for working with arrays of data and math\n",
        "!pip install -q textgenrnn\n",
        "from google.colab import files\n",
        "from textgenrnn import textgenrnn\n",
        "from datetime import datetime\n",
        "import os\n",
        "\n",
        "#https://github.com/minimaxir/textgenrnn/blob/master/docs/textgenrnn-demo.ipynb\n",
        "\n",
        "url = 'https://raw.githubusercontent.com/walkerkq/musiclyrics/master/billboard_lyrics_1964-2015.csv'\n",
        "\n",
        "song_data = pd.read_csv(url, encoding = \"latin-1\") #Pandas dataframe\n",
        "song_data.head() #Shows the first 5 lines of the dataframe"
      ],
      "execution_count": 1,
      "outputs": [
        {
          "output_type": "stream",
          "text": [
            "Using TensorFlow backend.\n"
          ],
          "name": "stderr"
        },
        {
          "output_type": "display_data",
          "data": {
            "text/html": [
              "<p style=\"color: red;\">\n",
              "The default version of TensorFlow in Colab will soon switch to TensorFlow 2.x.<br>\n",
              "We recommend you <a href=\"https://www.tensorflow.org/guide/migrate\" target=\"_blank\">upgrade</a> now \n",
              "or ensure your notebook will continue to use TensorFlow 1.x via the <code>%tensorflow_version 1.x</code> magic:\n",
              "<a href=\"https://colab.research.google.com/notebooks/tensorflow_version.ipynb\" target=\"_blank\">more info</a>.</p>\n"
            ],
            "text/plain": [
              "<IPython.core.display.HTML object>"
            ]
          },
          "metadata": {
            "tags": []
          }
        },
        {
          "output_type": "execute_result",
          "data": {
            "text/html": [
              "<div>\n",
              "<style scoped>\n",
              "    .dataframe tbody tr th:only-of-type {\n",
              "        vertical-align: middle;\n",
              "    }\n",
              "\n",
              "    .dataframe tbody tr th {\n",
              "        vertical-align: top;\n",
              "    }\n",
              "\n",
              "    .dataframe thead th {\n",
              "        text-align: right;\n",
              "    }\n",
              "</style>\n",
              "<table border=\"1\" class=\"dataframe\">\n",
              "  <thead>\n",
              "    <tr style=\"text-align: right;\">\n",
              "      <th></th>\n",
              "      <th>Rank</th>\n",
              "      <th>Song</th>\n",
              "      <th>Artist</th>\n",
              "      <th>Year</th>\n",
              "      <th>Lyrics</th>\n",
              "      <th>Source</th>\n",
              "    </tr>\n",
              "  </thead>\n",
              "  <tbody>\n",
              "    <tr>\n",
              "      <th>0</th>\n",
              "      <td>1</td>\n",
              "      <td>wooly bully</td>\n",
              "      <td>sam the sham and the pharaohs</td>\n",
              "      <td>1965</td>\n",
              "      <td>sam the sham miscellaneous wooly bully wooly b...</td>\n",
              "      <td>3.0</td>\n",
              "    </tr>\n",
              "    <tr>\n",
              "      <th>1</th>\n",
              "      <td>2</td>\n",
              "      <td>i cant help myself sugar pie honey bunch</td>\n",
              "      <td>four tops</td>\n",
              "      <td>1965</td>\n",
              "      <td>sugar pie honey bunch you know that i love yo...</td>\n",
              "      <td>1.0</td>\n",
              "    </tr>\n",
              "    <tr>\n",
              "      <th>2</th>\n",
              "      <td>3</td>\n",
              "      <td>i cant get no satisfaction</td>\n",
              "      <td>the rolling stones</td>\n",
              "      <td>1965</td>\n",
              "      <td></td>\n",
              "      <td>1.0</td>\n",
              "    </tr>\n",
              "    <tr>\n",
              "      <th>3</th>\n",
              "      <td>4</td>\n",
              "      <td>you were on my mind</td>\n",
              "      <td>we five</td>\n",
              "      <td>1965</td>\n",
              "      <td>when i woke up this morning you were on my mi...</td>\n",
              "      <td>1.0</td>\n",
              "    </tr>\n",
              "    <tr>\n",
              "      <th>4</th>\n",
              "      <td>5</td>\n",
              "      <td>youve lost that lovin feelin</td>\n",
              "      <td>the righteous brothers</td>\n",
              "      <td>1965</td>\n",
              "      <td>you never close your eyes anymore when i kiss...</td>\n",
              "      <td>1.0</td>\n",
              "    </tr>\n",
              "  </tbody>\n",
              "</table>\n",
              "</div>"
            ],
            "text/plain": [
              "   Rank  ... Source\n",
              "0     1  ...    3.0\n",
              "1     2  ...    1.0\n",
              "2     3  ...    1.0\n",
              "3     4  ...    1.0\n",
              "4     5  ...    1.0\n",
              "\n",
              "[5 rows x 6 columns]"
            ]
          },
          "metadata": {
            "tags": []
          },
          "execution_count": 1
        }
      ]
    },
    {
      "cell_type": "code",
      "metadata": {
        "id": "jr-NTyJfIclv",
        "colab_type": "code",
        "outputId": "88d55439-8e6d-4f44-d1f5-772c126ecb91",
        "colab": {
          "base_uri": "https://localhost:8080/",
          "height": 173
        }
      },
      "source": [
        "year = 1965\n",
        "\n",
        "subset = song_data[song_data['Year'] == year]\n",
        "lyrics = subset['Lyrics']\n",
        "lyrics.to_csv(r'lyrics.txt', header=None, index=None, sep=' ', mode='a')\n",
        "file_name = 'lyrics.txt'\n",
        "model_name = '{}PopLyrics'.format(year)\n",
        "\n",
        "model_cfg = {\n",
        "    'word_level': False,   # set to True if want to train a word-level model (requires more data and smaller max_length)\n",
        "    'rnn_size': 128,   # number of LSTM cells of each layer (128/256 recommended)\n",
        "    'rnn_layers': 3,   # number of LSTM layers (>=2 recommended)\n",
        "    'rnn_bidirectional': False,   # consider text both forwards and backward, can give a training boost\n",
        "    'max_length': 30,   # number of tokens to consider before predicting the next (20-40 for characters, 5-10 for words recommended)\n",
        "    'max_words': 10000,   # maximum number of words to model; the rest will be ignored (word-level model only)\n",
        "}\n",
        "\n",
        "train_cfg = {\n",
        "    'line_delimited': True,   # set to True if each text has its own line in the source file\n",
        "    'num_epochs': 30,   # set higher to train the model for longer default 20\n",
        "    'gen_epochs': 5,   # generates sample text from model after given number of epochs\n",
        "    'train_size': 0.8,   # proportion of input data to train on: setting < 1.0 limits model from learning perfectly\n",
        "    'dropout': 0.0,   # ignore a random proportion of source tokens each epoch, allowing model to generalize better\n",
        "    'validation': False,   # If train__size < 1.0, test on holdout dataset; will make overall training slower\n",
        "    'is_csv': False   # set to True if file is a CSV exported from Excel/BigQuery/pandas\n",
        "}\n",
        "\n",
        "lyrics.head()"
      ],
      "execution_count": 2,
      "outputs": [
        {
          "output_type": "stream",
          "text": [
            "/usr/local/lib/python3.6/dist-packages/ipykernel_launcher.py:5: FutureWarning: The signature of `Series.to_csv` was aligned to that of `DataFrame.to_csv`, and argument 'header' will change its default value from False to True: please pass an explicit value to suppress this warning.\n",
            "  \"\"\"\n"
          ],
          "name": "stderr"
        },
        {
          "output_type": "execute_result",
          "data": {
            "text/plain": [
              "0    sam the sham miscellaneous wooly bully wooly b...\n",
              "1     sugar pie honey bunch you know that i love yo...\n",
              "2                                                     \n",
              "3     when i woke up this morning you were on my mi...\n",
              "4     you never close your eyes anymore when i kiss...\n",
              "Name: Lyrics, dtype: object"
            ]
          },
          "metadata": {
            "tags": []
          },
          "execution_count": 2
        }
      ]
    },
    {
      "cell_type": "code",
      "metadata": {
        "id": "CHS65jOuTZGl",
        "colab_type": "code",
        "outputId": "626c0f53-9508-41bc-e970-127e6976e33f",
        "colab": {
          "base_uri": "https://localhost:8080/",
          "height": 1000
        }
      },
      "source": [
        "textgen = textgenrnn(name=model_name)\n",
        "\n",
        "train_function = textgen.train_from_file if train_cfg['line_delimited'] else textgen.train_from_largetext_file\n",
        "\n",
        "train_function(\n",
        "    file_path=file_name,\n",
        "    new_model=True,\n",
        "    num_epochs=train_cfg['num_epochs'],\n",
        "    gen_epochs=train_cfg['gen_epochs'],\n",
        "    batch_size=1024,\n",
        "    train_size=train_cfg['train_size'],\n",
        "    dropout=train_cfg['dropout'],\n",
        "    validation=train_cfg['validation'],\n",
        "    is_csv=train_cfg['is_csv'],\n",
        "    rnn_layers=model_cfg['rnn_layers'],\n",
        "    rnn_size=model_cfg['rnn_size'],\n",
        "    rnn_bidirectional=model_cfg['rnn_bidirectional'],\n",
        "    max_length=model_cfg['max_length'],\n",
        "    dim_embeddings=100,\n",
        "    word_level=model_cfg['word_level'])"
      ],
      "execution_count": 0,
      "outputs": [
        {
          "output_type": "stream",
          "text": [
            "WARNING:tensorflow:From /usr/local/lib/python3.6/dist-packages/keras/backend/tensorflow_backend.py:541: The name tf.placeholder is deprecated. Please use tf.compat.v1.placeholder instead.\n",
            "\n",
            "WARNING:tensorflow:From /usr/local/lib/python3.6/dist-packages/keras/backend/tensorflow_backend.py:4432: The name tf.random_uniform is deprecated. Please use tf.random.uniform instead.\n",
            "\n",
            "WARNING:tensorflow:From /usr/local/lib/python3.6/dist-packages/keras/backend/tensorflow_backend.py:190: The name tf.get_default_session is deprecated. Please use tf.compat.v1.get_default_session instead.\n",
            "\n",
            "WARNING:tensorflow:From /usr/local/lib/python3.6/dist-packages/keras/backend/tensorflow_backend.py:197: The name tf.ConfigProto is deprecated. Please use tf.compat.v1.ConfigProto instead.\n",
            "\n",
            "WARNING:tensorflow:From /usr/local/lib/python3.6/dist-packages/keras/backend/tensorflow_backend.py:203: The name tf.Session is deprecated. Please use tf.compat.v1.Session instead.\n",
            "\n",
            "WARNING:tensorflow:From /usr/local/lib/python3.6/dist-packages/keras/backend/tensorflow_backend.py:207: The name tf.global_variables is deprecated. Please use tf.compat.v1.global_variables instead.\n",
            "\n",
            "WARNING:tensorflow:From /usr/local/lib/python3.6/dist-packages/keras/backend/tensorflow_backend.py:216: The name tf.is_variable_initialized is deprecated. Please use tf.compat.v1.is_variable_initialized instead.\n",
            "\n",
            "WARNING:tensorflow:From /usr/local/lib/python3.6/dist-packages/keras/backend/tensorflow_backend.py:223: The name tf.variables_initializer is deprecated. Please use tf.compat.v1.variables_initializer instead.\n",
            "\n",
            "WARNING:tensorflow:From /usr/local/lib/python3.6/dist-packages/keras/backend/tensorflow_backend.py:66: The name tf.get_default_graph is deprecated. Please use tf.compat.v1.get_default_graph instead.\n",
            "\n",
            "WARNING:tensorflow:From /usr/local/lib/python3.6/dist-packages/keras/optimizers.py:793: The name tf.train.Optimizer is deprecated. Please use tf.compat.v1.train.Optimizer instead.\n",
            "\n",
            "WARNING:tensorflow:From /usr/local/lib/python3.6/dist-packages/keras/backend/tensorflow_backend.py:3576: The name tf.log is deprecated. Please use tf.math.log instead.\n",
            "\n",
            "99 texts collected.\n",
            "Training new model w/ 3-layer, 128-cell LSTMs\n",
            "Training on 68,873 character sequences.\n",
            "WARNING:tensorflow:From /usr/local/lib/python3.6/dist-packages/tensorflow_core/python/ops/math_grad.py:1424: where (from tensorflow.python.ops.array_ops) is deprecated and will be removed in a future version.\n",
            "Instructions for updating:\n",
            "Use tf.where in 2.0, which has the same broadcast rule as np.where\n",
            "WARNING:tensorflow:From /usr/local/lib/python3.6/dist-packages/keras/backend/tensorflow_backend.py:1033: The name tf.assign_add is deprecated. Please use tf.compat.v1.assign_add instead.\n",
            "\n",
            "WARNING:tensorflow:From /usr/local/lib/python3.6/dist-packages/keras/backend/tensorflow_backend.py:1020: The name tf.assign is deprecated. Please use tf.compat.v1.assign instead.\n",
            "\n",
            "Epoch 1/30\n",
            "67/67 [==============================] - 149s 2s/step - loss: 2.9753\n",
            "Epoch 2/30\n",
            "67/67 [==============================] - 145s 2s/step - loss: 2.8288\n",
            "Epoch 3/30\n",
            "67/67 [==============================] - 145s 2s/step - loss: 2.8120\n",
            "Epoch 4/30\n",
            "67/67 [==============================] - 143s 2s/step - loss: 2.5834\n",
            "Epoch 5/30\n",
            "67/67 [==============================] - 143s 2s/step - loss: 2.0729\n",
            "####################\n",
            "Temperature: 0.2\n",
            "####################\n",
            "\" wo me love te lee eve  feer er te to  me lee te te le el te te le te  roe te re ere se le a me no we le le lo go no  foe ne te ere to  me you ne te te ere  love ne te te ere yo  be e ne te te lee se te  an to me yo me   mee me te lee to me  ne yo  be be te re lee te le te  lee te lee te le eve  \n",
            "\n",
            "\" the a love ne te ere te a lo ne  te ere te lee to me  no we yo  fe ere  to me  an be yo ne  an  be ne te te lee te le a lo fe e le te  mee lit te le te te te ell yo  me a ne  to to lo te e le lo ne  me you  be ere te  me you ne te ere  yo be be you  fee re to me  now te  lot te lee to the e te  \n",
            "\n",
            "\" so me lo te te le a me yo  fee re  lon go te  loe ne te le lee e le le te er e le to me  ne te a be le te lee ne to  me lee te lee ne to  mee ne te lee te a lo ne  gon en te a me  yo  me yo be  be yo be be  no to me  be be te ere te ne ere to  me you ne ne ee ne te ea go ne  go ne te  tele te le\n",
            "\n",
            "####################\n",
            "Temperature: 0.5\n",
            "####################\n",
            "\" pay cee a no wee le eve yo  ne le  eas yo fee  ray  bo be a te el le you to ne  no go te re gee ne t le ee  nte no me ne te se ene  pne a now no te  lin te lo fe er yo  were  mwan a fo an de e te  to the re you  gor ye re e we to  lmea the te se  al lo to ge ee lse we le te yo ne me e le a te re\n",
            "\n",
            "\" bo we to we lee lea te ee  eme te to me  nog ge a me  gon or no fee  on to te le a to  me ne we let be be you ne e to  wone  ye  ree det a love yo  nfe  an  gol ee ea you ne  low an e an to le e eve  un to en e the me  co ne daing te  yo te he ele me ta bee fo me be  lfe te ne  at to me you te  \n",
            "\n",
            "\"\n",
            "\n",
            "####################\n",
            "Temperature: 1.0\n",
            "####################\n",
            "\" goofl lo me you rlo i de  fonen my need te ee me a gan yoe i one fore te  wca ne cee per e nec o on  it gan gor no gees gnoo no te wrel  lee na be an ge pe da bow n woe nes te i do co \"e\n",
            "\n",
            "\"dim i nj t du rot  lok no go on geer  yo ur ken  me e got e fo ru ed a fo no on ep lil  fee uel my be hel o gam me  eling fe  mie fre ere you t ma der bet le eu mer pul wiga my e cay it lec te lae sen tre  bele lell me an to i clo m yor knor nom ere yo w lo  evar a fo been and  in miif e ther i  \n",
            "\n",
            "\"\n",
            "\n",
            "Epoch 6/30\n",
            "67/67 [==============================] - 143s 2s/step - loss: 1.9370\n",
            "Epoch 7/30\n",
            "67/67 [==============================] - 143s 2s/step - loss: 1.8169\n",
            "Epoch 8/30\n",
            "67/67 [==============================] - 142s 2s/step - loss: 1.6331\n",
            "Epoch 9/30\n",
            "67/67 [==============================] - 142s 2s/step - loss: 1.5097\n",
            "Epoch 10/30\n",
            "67/67 [==============================] - 141s 2s/step - loss: 1.4109\n",
            "####################\n",
            "Temperature: 0.2\n",
            "####################\n",
            "\" i want to be love me love me is to be love be like i love love me love me love me the stare there and i cant to be love be love me and i want to be love for me the same of the starned there and i want to be love for i love love me dont you know i love love i tould be love gone you believe in my \n",
            "\n",
            "\" whats you been dont me can me be fore you believe in the baby and i dont know much about the should the started in the start to be love for me hold me hold me hold me hold me hold me hold me hold me believe she love me love me better love me dont me love me bed in the started to be life love you\n",
            "\n",
            "\" what and i want to be love for me here me hold me hold me hold me hold me love me love me hold me hold me love me love me she sake me hold me help me me rhonda help me rhonda help help me rhonda help me rhonda help help me rhonda help me rhonda help me rhonda help me rhonda help me rhonda help h\n",
            "\n",
            "####################\n",
            "Temperature: 0.5\n",
            "####################\n",
            "\" and i cant to be like if you the puntycat what of a lookin for me find and for and your sore and if the stare they pursed you know mush the cound for me like a love have me got and i went to me can my heart me read my heart me donna kearly with you want here me well you heart me what you want ca\n",
            "\n",
            "\" shander that in the life you better down there got a love an wen i very saydy baby dont go be lone here is to be looke you love in to be dont well me well help me me one show you been fore me what all your lear my wearter and i want for mary and ill feel my heart me heart here help me help me rh\n",
            "\n",
            "\" shince youre before so mean on come i cant candy then if you want to could be love be free my baby i got to her hurt dont me let me dont hear me me help me help me help me rhonda help me rhonda help help me rhonda help me rhonda help me rhonda help me rhonda help me rhonda help me rhonda help me\n",
            "\n",
            "####################\n",
            "Temperature: 1.0\n",
            "####################\n",
            "\"son thark you sood armm got on cancound i witner you know heyhes gurkin to me ill got and i just fored ulli giel nave wheve the boundall pisn wink and yougtan youve qurtenn munot low way for the usked thenk when her of my shoungs ctandowers tone if \"\n",
            "\n",
            "\" i starke a to hime rearpld arp sound prems and helpt outserti time i love me that and feels sougn to therrs were down if a sime for me sand no evern need donnt go de\n",
            "\n",
            "\"os and the come on you see it mays just catach cats whyre crych uscold szom now in love long and if mmss its i cat aras ave singinen a unime to yory onl you love me no wigh sime my hiss no meaned i love love dande hwo sang ey scord thanver sime aramanidbls plian i wide shisgh the prambed alm my o\n",
            "\n",
            "Epoch 11/30\n",
            "67/67 [==============================] - 142s 2s/step - loss: 1.3191\n",
            "Epoch 12/30\n",
            "67/67 [==============================] - 141s 2s/step - loss: 1.2377\n",
            "Epoch 13/30\n",
            "67/67 [==============================] - 144s 2s/step - loss: 1.1514\n",
            "Epoch 14/30\n",
            "67/67 [==============================] - 146s 2s/step - loss: 1.0773\n",
            "Epoch 15/30\n",
            "67/67 [==============================] - 145s 2s/step - loss: 1.0042\n",
            "####################\n",
            "Temperature: 0.2\n",
            "####################\n",
            "\" i got a lovely daughter what its true hope the mound i see good little plass in the sting to be with anyone things theres when youre and the should then you were on my maybe i got you believe in my life let me go part you hear my heartbeat when you tell me there away and then you to kind you dow\n",
            "\n",
            "\" things and she looked at her and i wanna see you cant go to pieces and i want some then i say they and so stayin well i want candy but i dont know much about the goondento the skeed when i was some i cant fold of this will his lives the pretty by shes good to place i love you and then you want t\n",
            "\n",
            "\" the pursestars and the senged to say i would now dont you know dont you know dont you know dont you know dont you know dont you know dont you know dont you know dont you know dont you know dont you know dont you know dont you know dont you know dont you know dont you know dont you know dont you \n",
            "\n",
            "####################\n",
            "Temperature: 0.5\n",
            "####################\n",
            "\" whats you so its for you brince my brombles is to do the street and the night when everything you world needs is to do athy mares a monta keep searing it lost to many down the way i criml in the boondocks word and i man come on come on come on come on with a chanchouth of my for you so put your \n",
            "\n",
            "\" whats the street shake it whats gonna go it you so but i wouldnt be doggone its gone it feel to be and i want some theres and the side of the givess believer theres you cant go and the boondocks prealed but i dont bring you only in love you shoooh in she says we cally gone it my song i cant go n\n",
            "\n",
            "\" only i wouldnt be doggone id baby i got you so but i go out on the boondocks yours time the make my geeds is got nowhere to night a cat for for me i go now whats you hear my went go and well suse i cant stong you can catch us if you can come on come on come on let me show you where its at the sh\n",
            "\n",
            "####################\n",
            "Temperature: 1.0\n",
            "####################\n",
            "\"i then i would now this were oh it sight you oh monte nogd i got a bo a dreds baby and a marning and ill well old soulst to place just baby darbly te catty chatseres of shes goedante of difedstert good dont cand you cornt right peetige putty mobldsedes withs u5its tooch but whoo nenter how you do\n",
            "\n",
            "\" life somespetes in soney many s and it the wind out fictren what join partechin shake im the sicking but ill the more and thing ivingen shere about a mover fing or the frouth no mipst my listeres ported to the preace i gusy no pomone dooncelleds to icks you ready ready oh ather get anywhing me w\n",
            "\n",
            "\" mrep my knows you know it dont know why they knows thats goin and thir causir looss for meany  goil for me dont let me do ferm it the easse to get guen i kischer from and a muringly beat if it feelin sony if you so love a man beter reuden som on brow yhe and seeling dwont you no on9 lovely by me\n",
            "\n",
            "Epoch 16/30\n",
            "67/67 [==============================] - 145s 2s/step - loss: 0.9359\n",
            "Epoch 17/30\n",
            "67/67 [==============================] - 148s 2s/step - loss: 0.8638\n",
            "Epoch 18/30\n",
            "67/67 [==============================] - 148s 2s/step - loss: 0.7999\n",
            "Epoch 19/30\n",
            "67/67 [==============================] - 149s 2s/step - loss: 0.7341\n",
            "Epoch 20/30\n",
            "67/67 [==============================] - 146s 2s/step - loss: 0.6706\n",
            "####################\n",
            "Temperature: 0.2\n",
            "####################\n",
            "\" whats a little cause i love you so man come on come on let me show you where its at ah come on come on let me show you where its at ah come on come on let me show you where its at ah come on come on let me show you where its at ah come on come on let me show you where its at ah come on come on l\n",
            "\n",
            "\" whats new pussycat woah whats are good never hangs a   reet love baby the  e ame of last time laugh laugh i thats the way you love me alond with you all of the time with all digld dighterecantyom and the should ever and aint man working and slaving and when the treas the name of love before you \n",
            "\n",
            "\" when i woke up they and now you know i love you and i wonder if you want to hold me time where she same old doonna lonely but i dont know what the strace got to the lates this hould be calling so seen her so mary in love with you i dont leave your magic miscating of and i hope to make me tell yo\n",
            "\n",
            "####################\n",
            "Temperature: 0.5\n",
            "####################\n",
            "\" oold theres a love the one i need your love babe i got you believe let me show i was kisse haverythin here some men me laugh at me and if you cant on the shade all of our day long and the winner so silhout love and a come on come on let me show you where its at the shade a hodey get hem show you\n",
            "\n",
            "\" \"\n",
            "\n",
            "\" whats new are working and slaving and waiting go and i come on come on let me show you where its at ah come on come on let me show you where its at the should a rroms see som i sail love hid baby dont care my baby now theres a little the last thing it downtown what to do amon but in the swactere\n",
            "\n",
            "####################\n",
            "Temperature: 1.0\n",
            "####################\n",
            "\"nowing you to kiss your eestruct on the shade we was unda pusty to   ide she like a come lonely ooo potoused he passeches a i went count hem the month holdeth home hards kemp but im brnam baby you reare yes im ready font you better hold me told me thrill the musay wo fird we undstwent the skeched\n",
            "\n",
            "\" some thrabout heart aint me just start to know its not unusaiallbona stay iadony got now dont care love before you free om leave of the one i lohed you sun to say its too please hes been wiphes now huh heartace yeah hept oussey on the shilover dont mele be digghter goip of my myi dind a changed \n",
            "\n",
            "\" leart truel hus starna usedy and ooooohele ahounda chample justion help me when we know weed is areming bost say oh baby last cant you heart of me when we aint yeah oh mistain place agadach weep for you any now dont treem anl his like a complete unknown woldbut my wears gone wownt believe in bab\n",
            "\n",
            "Epoch 21/30\n",
            "67/67 [==============================] - 146s 2s/step - loss: 0.6150\n",
            "Epoch 22/30\n",
            "67/67 [==============================] - 145s 2s/step - loss: 0.5636\n",
            "Epoch 23/30\n",
            "67/67 [==============================] - 144s 2s/step - loss: 0.5096\n",
            "Epoch 24/30\n",
            "67/67 [==============================] - 145s 2s/step - loss: 0.4677\n",
            "Epoch 25/30\n",
            "26/67 [==========>...................] - ETA: 1:27 - loss: 0.4083"
          ],
          "name": "stdout"
        }
      ]
    },
    {
      "cell_type": "code",
      "metadata": {
        "id": "l_4ejAmU0vXF",
        "colab_type": "code",
        "colab": {}
      },
      "source": [
        "files.download('{}_weights.hdf5'.format(model_name))\n",
        "files.download('{}_vocab.json'.format(model_name))\n",
        "files.download('{}_config.json'.format(model_name))"
      ],
      "execution_count": 0,
      "outputs": []
    },
    {
      "cell_type": "code",
      "metadata": {
        "id": "Io4SrgQ2Tibk",
        "colab_type": "code",
        "colab": {}
      },
      "source": [
        "textgen = textgenrnn(weights_path='1965PopLyrics_weights.hdf5',\n",
        "                      vocab_path='1965PopLyrics_vocab.json',\n",
        "                      config_path='1965PopLyrics_config.json')"
      ],
      "execution_count": 0,
      "outputs": []
    },
    {
      "cell_type": "code",
      "metadata": {
        "id": "TE7i01aqUO91",
        "colab_type": "code",
        "colab": {}
      },
      "source": [
        "textgen.generate_samples()"
      ],
      "execution_count": 0,
      "outputs": []
    }
  ]
}