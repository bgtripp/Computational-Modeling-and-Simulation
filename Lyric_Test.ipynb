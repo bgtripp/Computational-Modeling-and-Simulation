{
  "nbformat": 4,
  "nbformat_minor": 0,
  "metadata": {
    "colab": {
      "name": "Lyric Test.ipynb",
      "provenance": [],
      "authorship_tag": "ABX9TyO7nnp7+pQkaDf/helb7T2T",
      "include_colab_link": true
    },
    "kernelspec": {
      "name": "python3",
      "display_name": "Python 3"
    }
  },
  "cells": [
    {
      "cell_type": "markdown",
      "metadata": {
        "id": "view-in-github",
        "colab_type": "text"
      },
      "source": [
        "<a href=\"https://colab.research.google.com/github/bgtripp/Computational-Modeling-and-Simulation/blob/master/Lyric_Test.ipynb\" target=\"_parent\"><img src=\"https://colab.research.google.com/assets/colab-badge.svg\" alt=\"Open In Colab\"/></a>"
      ]
    },
    {
      "cell_type": "markdown",
      "metadata": {
        "id": "iRYY0BRxp3go",
        "colab_type": "text"
      },
      "source": [
        " **Testing Pre-Trained Weights for Each Decade**\n"
      ]
    },
    {
      "cell_type": "code",
      "metadata": {
        "id": "CjC27csoCwtI",
        "colab_type": "code",
        "colab": {}
      },
      "source": [
        "#Copyright Benjamin Tripp 2020\n",
        "\n",
        "!pip install -q textgenrnn\n",
        "from textgenrnn import textgenrnn"
      ],
      "execution_count": 0,
      "outputs": []
    },
    {
      "cell_type": "markdown",
      "metadata": {
        "id": "9wAu4G4PqDOy",
        "colab_type": "text"
      },
      "source": [
        "# Making Text Generation Function"
      ]
    },
    {
      "cell_type": "code",
      "metadata": {
        "id": "uzvcw5p4DMEK",
        "colab_type": "code",
        "colab": {}
      },
      "source": [
        "import urllib.request\n",
        "\n",
        "def genText(year, prefix=None): #Given a year\n",
        "  decade = year[0:3]+'5'\n",
        "  model_name = '{}PopLyrics'.format(decade)\n",
        "\n",
        "  weights_url = 'https://raw.githubusercontent.com/bgtripp/Lyrics-Neural-Net/master/multi/{}/{}weights.hdf5'.format(year[0:3]+'0', year)\n",
        "  urllib.request.urlretrieve(weights_url, 'weights') #Grab pre-trained weights from github\n",
        "\n",
        "  vocab_url = 'https://raw.githubusercontent.com/bgtripp/Lyrics-Neural-Net/master/{}/{}_vocab.json'.format(decade, model_name)\n",
        "  urllib.request.urlretrieve(vocab_url, 'vocab') #Grab vocab from github\n",
        "\n",
        "  config_url = 'https://raw.githubusercontent.com/bgtripp/Lyrics-Neural-Net/master/{}/{}_config.json'.format(decade, model_name)\n",
        "  urllib.request.urlretrieve(config_url, 'config') #Grab config file from github\n",
        "\n",
        "  textgen = textgenrnn(weights_path = 'weights', #Make new instance of textgen\n",
        "                        vocab_path = 'vocab',\n",
        "                        config_path = 'config')\n",
        "  if (prefix==None):\n",
        "    textgen.generate_samples(3, temperatures=[0.2,0.5,0.7,0.9, 1.1]) #Generate three samples each of different temperatures\n",
        "  else:\n",
        "    textgen.generate_samples(3, temperatures=[0.7], prefix=prefix) #Add prefix if it exists (0.7 seems to be a sweet spot)"
      ],
      "execution_count": 0,
      "outputs": []
    },
    {
      "cell_type": "markdown",
      "metadata": {
        "id": "uBsR9bnjpMVu",
        "colab_type": "text"
      },
      "source": [
        "# 1960s"
      ]
    },
    {
      "cell_type": "code",
      "metadata": {
        "id": "tFKqYBKIpVBC",
        "colab_type": "code",
        "colab": {
          "base_uri": "https://localhost:8080/",
          "height": 802
        },
        "outputId": "c9817dc7-0382-4a62-fe15-ebfc9a270443"
      },
      "source": [
        "year = '1969' #Input your desired year here! (1965-2015)\n",
        "genText(year)"
      ],
      "execution_count": 6,
      "outputs": [
        {
          "output_type": "stream",
          "text": [
            "####################\n",
            "Temperature: 0.2\n",
            "####################\n",
            "\" i can have it love me tonight cry they detchict black pearl precious little girl let me put you up where you belong black pearl pretty little girl you been in the background much too long to you love me tonight you love me too now to you and i cant get next to you tell me what i want to fight to\n",
            "\n",
            "\" i can have it fall in love with you more than and he says that i heard it through the grapevine not much longer would you be mine baby yeah yeah yeah yeah yeah yeah yeah yeah yeah yeah yeah yeah yeah yeah yeah yeah yeah yeah yeah yeah yeah yeah my my my my babe you know i need you i need you bab\n",
            "\n",
            "\" i can make it all i have to say not to the girls in love with you these eyes are cryin these eyes have seen a lot of loves but theyre never gonna see another one like i had with you these eyes are cryin these eyes have seen a lot of loves but theyre never gonna see another one like i had with yo\n",
            "\n",
            "####################\n",
            "Temperature: 0.5\n",
            "####################\n",
            "\" i can hear you feel come on back no hope you touched me but a million years i can have i knew that you love me and you thank you baby cant you see that you belong rock in thout icarty and then ill show it fine she got to have you for you and me and my room and dry your life is the truth but your\n",
            "\n",
            "\" i see them still hell e crock dont go back to where you belong listen to your heart beat its beating much too fast go back home where you belong run away child running wild you better go back home where you belong not much longer would you be mine baby im gonna make you mine im gonna make you mi\n",
            "\n",
            "\"she so hard to see these tears i cant get next to you cant you still i need you i i need you time to the things i need you very why do you tell you thit is thats the way she wore for a hungry like her love to say when keep it so laughter trying to brokenherbllacter see you just wait and see you c\n",
            "\n",
            "####################\n",
            "Temperature: 0.7\n",
            "####################\n",
            "\" whether im so really creems mean when your walking over make the other way was that she knew i change my mind what you stard together dont give a da da da da da da da da da da da da da da da da da da da da da da da da na care and her and and all the girl she could never gettin rosemarian choken \n",
            "\n",
            "\" i can have i tomch it so i always will believe a big and she gets till you take up for you fell for me a million years walk a million miles cry a met its not a new face in a necces for you and i want you only the strong survive only the strong survive only the strong survive youve got to come in\n",
            "\n",
            "\" i aint got time for nothing me but shes much too from and no difference now na na na na na na na na na na na na na na na na na na na na na na na na na na na na na na na na na na na na na na na na na na na na na na na na na na na na na na na na na na na na na na na na na na na na na na na na na n\n",
            "\n",
            "####################\n",
            "Temperature: 0.9\n",
            "####################\n",
            "\" hes reming strokes to get to the floor despear put a little love in your heart keep on trust near let it gotta broke of bout to scose marry my little flase a trape a billion about the lady way daddy fall in love i can hear you have i am lay yeah \"\n",
            "\n",
            "\"go home is the loneliest number that you look out you every day not exactly was a reftyple that lived you and it dont take a tumpent getting becacking of the country sun and get next to you and he got together right ot surround you i need nobody cause i hold it is in the year picat light to live \n",
            "\n",
            "\" where their day she found of my love is a river runnin soul deep way down inside me so very love with come on give your longer \"\n",
            "\n",
            "####################\n",
            "Temperature: 1.1\n",
            "####################\n",
            "\" its the door for you but you made me so reality love is fine some dazznala la la la la la la la la la la la la la la la la \"\n",
            "\n",
            "\" as the rame and suels that its just as baby makes you stay for girl oh that she was too new didd and crystalbiving last hair and i knew he evry hesgays to the chokand who care as the world with you up night but its your thing do what youre goin babyoh the pmons smile only means counning over it \n",
            "\n",
            "\" how to fight to show you that youre gonna fall in love wish me too now you hold the top of your falray gray called me our leor and it growing up your shainder le said i refrain oh baby its you what cause you know now and i may itain your wooted of life coloused all never and kill telling you the\n",
            "\n"
          ],
          "name": "stdout"
        }
      ]
    },
    {
      "cell_type": "markdown",
      "metadata": {
        "id": "WqrmdpbDpYiX",
        "colab_type": "text"
      },
      "source": [
        "#1970s"
      ]
    },
    {
      "cell_type": "code",
      "metadata": {
        "id": "WdGAnoB4pdtF",
        "colab_type": "code",
        "colab": {
          "base_uri": "https://localhost:8080/",
          "height": 802
        },
        "outputId": "babf80c0-88ec-441d-edc9-d079870e0c8e"
      },
      "source": [
        "year = '1979' #Input your desired year here! (1965-2015)\n",
        "genText(year)"
      ],
      "execution_count": 7,
      "outputs": [
        {
          "output_type": "stream",
          "text": [
            "####################\n",
            "Temperature: 0.2\n",
            "####################\n",
            "\" when i want you to want me i want you to want me i want you to want me i want you to want me i want you to want me i want you to want me i want you to want me i want you to want me i want you to want me i want you to want me i want you to want me i want you to want me i want you to want me i wan\n",
            "\n",
            "\" i cant see if you see we wont let get the moment that i love you so sure when the morning i strunt made me with me on and oh what wow hes the greatest dancer oh what wow hes the greatest dancer oh what wow hes the greatest dancer oh what wow that ive ever seen i want you to see me just when i st\n",
            "\n",
            "\" i want you to want me i want you to want me i want you to want me i want you to want me i want you to want me i want you to want me i want you to want me i want you to want me i want you to want me i want you to want me i want you to want me i want you to want me i want you to want me i want you\n",
            "\n",
            "####################\n",
            "Temperature: 0.5\n",
            "####################\n",
            "\" you wanna stay all all night long way made a vow weve got the way you told me id leave you to me love isnt always on time oh oh oh i want to stop and weve got a lot home and makin it in my mind im in love i come on you know why its not in the navy yeah yeah she am i dont know why its hard to bea\n",
            "\n",
            "\" here i came all man its like the boys and she said is wrong in a band is meiing with a first about you in the night well just go on burnin bright somewhere in the night well just go on round no girl i want you to give in your didnt i didnt i didnt i didnt i didnt i see you cryin ohh didnt i didn\n",
            "\n",
            "\" park every time there in the way you can push you to me dead taught me the street it were the linestrangers we made for the ground at a is love and know when to fold em know when to walk away and know when to walk away our love dont throw it all away our love our love dont throw it all away our \n",
            "\n",
            "####################\n",
            "Temperature: 0.7\n",
            "####################\n",
            "\" baby cause someone on the rain i know what i wanna be will surely moving just what she says alrigh hast in your love tonightoh woh woh after the linestant cried clea youre dont you lead me the start chorus \"\n",
            "\n",
            "\" on and when i needed you most dont see me all the navy how hot hot to make you where i am in a way i feel gonna see on the thing you find real what wow hes the groove with me its not in the way again and i need your cry unter \"\n",
            "\n",
            "\" i didnt that let me know if you really need me just one theres no need to hes to part from your feelings from a place well sleep in your arms into gold into gold part of my mind i never love in the win you feel id really be home to stand in the navy wall were clam youre to fold when we make role\n",
            "\n",
            "####################\n",
            "Temperature: 0.9\n",
            "####################\n",
            "\" where that i live a loneion and makin life holding of mind is coming down to do it now shake your groove thing shake your groove thing yeah yeah show em how to do it now shake your groove thing shake your groove thing yeah yeah show em how to do it now shake it shake your groove thing shake your\n",
            "\n",
            "\" of dad askin at a heat its holding for with me and if you and the world we believes be baby in the world just go on bud you begain rowin aint no need to laid i wont every kisseveis always well was movin your eyeal the one youre there when the world where i was made for dancin all all all all nig\n",
            "\n",
            "\" here im feeling fords pick to you in the winners begin another light now weve got to love i know ill never saddell the memon what you say ah come on know when we got me wrong made me just she want just spent so much when the best youre the days that double vision ooh and weve learned again dont \n",
            "\n",
            "####################\n",
            "Temperature: 1.1\n",
            "####################\n",
            "\"i high and i cant let good timenots acter sun i know a lams my chorusing will you shine a little love on my life and let me seeyou touch his come on and please me know that dreams and she reach youeverybody else for youll i know ill never love this way against world oh my old etaking well flow mu\n",
            "\n",
            "\" im for loves been \"\n",
            "\n",
            "\" i dont movin m dance i know ill never love this way again unont break and if drive me when youre in love and id liventrollyou came by everything used tell me now you fantblexts trying you near about she said young me oned pick to me the bye of recring greps on the rain we knew ah i love you so m\n",
            "\n"
          ],
          "name": "stdout"
        }
      ]
    },
    {
      "cell_type": "markdown",
      "metadata": {
        "id": "3Cg23WTUphUT",
        "colab_type": "text"
      },
      "source": [
        "# 1980s"
      ]
    },
    {
      "cell_type": "code",
      "metadata": {
        "id": "8oXGKw-apmju",
        "colab_type": "code",
        "colab": {
          "base_uri": "https://localhost:8080/",
          "height": 802
        },
        "outputId": "1aa232a1-b51f-4cf9-af40-7187de4f32fb"
      },
      "source": [
        "year = '1989' #Input your desired year here! (1965-2015)\n",
        "genText(year)"
      ],
      "execution_count": 8,
      "outputs": [
        {
          "output_type": "stream",
          "text": [
            "####################\n",
            "Temperature: 0.2\n",
            "####################\n",
            "\" i wanna rock witcha baby like a prayer you and me to the paradise city where the grass is green and the girls are pretty take me home yeah yeah baby i cant stay to the paradise city where the grass is green and the girls are pretty take me home yeah yeah baby i cant stay that i want to be there \n",
            "\n",
            "\" i wanna kiss you know i can love you when i see you in my heart beating on the love can be there for you i love the world i should have seen that i miss you i like it uh huh uh huh i like it uh huh i like it oh oh oh oh oh oh oh oh oh oh oh oh oh oh oh oh oh oh oh oh oh oh oh oh oh oh oh oh oh o\n",
            "\n",
            "\" i cant help myself and i can feel you what i am are you what you are or what what i am is what i am are you what you are or what what i am is what i am are you what you are or what what i am is what i am are you what you are or what what i am is what i am are you what you are or what what i am i\n",
            "\n",
            "####################\n",
            "Temperature: 0.5\n",
            "####################\n",
            "\" you know i wanna give in you my prerogative i wanna love you but i cant i cant get unal my arms of the pain oh i want to be there the stars are you ok so annie are you ok are you ok annie annie are you ok are you ok annie annie are you ok are you ok annie annie are you ok are you gonna be the fu\n",
            "\n",
            "\" take me home hangin one of the greater too deep i want it to tell me straight up now face the world i cant stop it do if i could love it in your room in your room i want to no one my mind if i could turn back time i was fun so far away i love you who all all of you i cant i cant cant stand think\n",
            "\n",
            "\" still all of you i wanna be the best that i can feel you feel good i love you theres so i feel its thinking of you i will be there ill be so dont put the fecking not work the world i wanna love you you what you or honey you love you i love the way you are or would you gotta get to say i wanna ro\n",
            "\n",
            "####################\n",
            "Temperature: 0.7\n",
            "####################\n",
            "\" however find on my eyes i promise you \"\n",
            "\n",
            "\"im on the right the lover in the way help no no one so long a are gonna be more to be through it came on yeah yeah is tonight he reach it too much i like toy for me ive been smile yeah yeah happeo dont you know its a secret rendezvous it wont stop it wont give me to your life i know if you cant t\n",
            "\n",
            "\" so i feel it on my mind and with you i didnt never thinking of your friends for you are a nons and that i need well is the bad i cant help myself my own come on hey hey baby cold medinafle i dont know its true but while you can do it foose and are you getting over you now im the world i can feel\n",
            "\n",
            "####################\n",
            "Temperature: 0.9\n",
            "####################\n",
            "\"steel the firmour home ill never leave if i could want it wouldnt want to say i see you i never knew losing for me fall money cause when the cked gotta put it take me by slipping like a day heard at you to see weave not your get somethin to go im thinking of you what i really knee my love shack i\n",
            "\n",
            "\" one of mind im only dreamin do it seems chorus its love with your love shack ill be with you like a truild it on the seeds an end whatever thing im still for promise you i will know its the pain yeah mageme i say than a tender but i waitchin that west those shoedo ill was a little feeling time t\n",
            "\n",
            "\" yeah i feel night forget itill be with you and i said or now that youre even even if you could make a little well be the nurnang like its a visgones that it forever why i dont want you for you i might belong oh straight or get it for you i know if you believe if you want you to youday buff youid\n",
            "\n",
            "####################\n",
            "Temperature: 1.1\n",
            "####################\n",
            "\" baby so dance you know well make those goodbye though i dont wall it way for you if i was time is what you seellefly youre diretime around are or bust call me so branned good i will it waites bat wake up any time ill caraw for us well heaven for you and i felt how look everybody needs a muscoroh\n",
            "\n",
            "\" maybe surprever im not as wrong i want to be the best tryiging of a feelininein \"\n",
            "\n",
            "\" i hit a weir the going and ill ever wide my life i like to hold your love come out you bean this time when youre gone keep on and beforeif the world out so in the suyim oh uld helli believing bang bazie are girlgin my good before and bye all \"\n",
            "\n"
          ],
          "name": "stdout"
        }
      ]
    },
    {
      "cell_type": "markdown",
      "metadata": {
        "id": "Db_mik91poQ5",
        "colab_type": "text"
      },
      "source": [
        "# 1990s"
      ]
    },
    {
      "cell_type": "code",
      "metadata": {
        "id": "iJhnTkaMptoO",
        "colab_type": "code",
        "colab": {
          "base_uri": "https://localhost:8080/",
          "height": 802
        },
        "outputId": "d92c4286-3427-4494-bf2e-362385617ae7"
      },
      "source": [
        "year = '1994' #Input your desired year here! (1965-2015)\n",
        "genText(year)"
      ],
      "execution_count": 11,
      "outputs": [
        {
          "output_type": "stream",
          "text": [
            "####################\n",
            "Temperature: 0.2\n",
            "####################\n",
            "\" i was a friend i will be here blothere baby im listening baby i hear you callin me im listening baby i hear you callin me im listening baby i hear you callin me im listening baby i hear you callin me im listening baby i hear you callin me im listening baby i hear you callin me im listening baby \n",
            "\n",
            "\" i was a man feels like a friend like you will be here for the lang and for love me forever im teen and when i shall never know what i saywhat i need from you is understanding so simple as i keronder steady like the sun come on baby standin and its gonna be a bright bright bright bright sunshiny \n",
            "\n",
            "\" i want you i saw you all the time and the boys disappey but im still in the streets and i will love live in laugh of your bodys tired of my own i was right into my mind and everybody say i remember way back when and everybody say i remember way back when and everybody say i remember way back whe\n",
            "\n",
            "####################\n",
            "Temperature: 0.5\n",
            "####################\n",
            "\" im not gettin down the way we said that you dont have to be a friend i will never lie again cause a friend like you will last foreveri will never lie again cause you will always be my friend i will never lie again cause a friend like you will last forever i will never lie again \"\n",
            "\n",
            "\" would do anything for love i would do anything for love i would do anything for love id run right now i cant stop thinkin about my love is in the middle and i was drive me it always have been and every special time for the day i want to say that you know it all alone now im standing on ive got t\n",
            "\n",
            "\" what i want and i want it now i want you cause im mr vaingirls are into you stay youre around its a gang tryin to you baby i know i wanna know i wanna know i wanna know i wanna know your name can we talk for a minute come on and talk to me baby \"\n",
            "\n",
            "####################\n",
            "Temperature: 0.7\n",
            "####################\n",
            "\" back and the passing years will show that you will always grow me in my arms again if i never want i looked you like the funk of your heart to listen to the mack now then i really want to look at you in illl find a groove thang i was for my homies understood you theres a ride em up a dagguz i lo\n",
            "\n",
            "\" baby and i know your bodys try stay stop me dont you say goodbye stay with me my side just to remember the voimilt time and you could be right black where i wanna do what you want to stantin its a little o gangs so deep yeah yeah yeah means and everything you see all that i can tell you that im \n",
            "\n",
            "\" its a groove thangwere gonna give you what you want just as long as youre around its a groove thang yeah oh chevate and it as the world to the fire come on come on and too you my mind and ill deep you moving without if you want to shes a little be and i would do anything for love anything youve \n",
            "\n",
            "####################\n",
            "Temperature: 0.9\n",
            "####################\n",
            "\"\"\n",
            "\n",
            "\" if you want yourself enough yeahit tricks for you i see your prine i am your desire is win cause theres nothing wrong check its gonna do do strange you try a nowi may not gonna try stay with me i said they see my dreams aint none of love that the mack lets did they get once up too say now its lo\n",
            "\n",
            "\" come to my window ehould be strong girl im sure with my fvil and i got the end to the wise tommorothejust nothin and so dreams and them rest like come to my my more tomorrow will you reclin war we were oh so much so dont you fear ehelishin you got me waiting around i were you say goodbye stay ba\n",
            "\n",
            "####################\n",
            "Temperature: 1.1\n",
            "####################\n",
            "\" night and itthomes relax you decrate reg killers runnin i cant help your hands for youooh oh sweet and it that you need its the light learned uh sweak hicity goodbye talking me again with you and yeah its a silky funky so young forever but then im need you brotheres gonna id dont ever feel its a\n",
            "\n",
            "\" last days i can see the shit like the man sit downgets to explain to crazy baby thats my mother feels for egg got to listen to the crip you babing as yoursince too long gin me sleep i remember it some grown me flowi got turned he used eall the only thing that i mate some working in turn the blee\n",
            "\n",
            "\"\"\n",
            "\n"
          ],
          "name": "stdout"
        }
      ]
    },
    {
      "cell_type": "markdown",
      "metadata": {
        "id": "Z0Gp4MjzrcxG",
        "colab_type": "text"
      },
      "source": [
        "# Generating with a prefix"
      ]
    },
    {
      "cell_type": "code",
      "metadata": {
        "id": "4i_LkcDJriUG",
        "colab_type": "code",
        "colab": {
          "base_uri": "https://localhost:8080/",
          "height": 190
        },
        "outputId": "3bcfda8d-fd1b-4032-d38c-0959a1c3b8ab"
      },
      "source": [
        "year = '1994' #Input your desired year here! (1965-1995 for now) \n",
        "prefix = 'i love you' #Input any string to start the lyrics!\n",
        "genText(year, prefix=prefix)"
      ],
      "execution_count": 29,
      "outputs": [
        {
          "output_type": "stream",
          "text": [
            "####################\n",
            "Temperature: 0.7\n",
            "####################\n",
            "i love you made me my mother we can make it all a bitting get a six strugger they watch your hands deal we dip cause i am your line thats who i to know i could be your blind so again no way out and i will love you better be the one for you and the one you layed back and when can i see you again wh\n",
            "\n",
            "i love you in my arms again if i never feel your tender kiss again if i never hear i love you now and true lookin by your love indiana bust out with you in my stime cause i am your line and the one and the macl that you got me waiting when i get unlefin and i will love you to look now the other wo\n",
            "\n",
            "i love you the only thing that nothing with you no made ill never be the assack but you know i cant get that i should know youre looking make that will be strong ive againing you baby i loved you but i will cry for you the latt of high if i had to be with you and all cleand she taker edpatin on th\n",
            "\n"
          ],
          "name": "stdout"
        }
      ]
    }
  ]
}